{
  "nbformat": 4,
  "nbformat_minor": 0,
  "metadata": {
    "colab": {
      "name": "Online Retail Store Sales Analysis ",
      "provenance": [],
      "collapsed_sections": []
    },
    "kernelspec": {
      "name": "python3",
      "display_name": "Python 3"
    },
    "language_info": {
      "name": "python"
    }
  },
  "cells": [
    {
      "cell_type": "markdown",
      "metadata": {
        "id": "MSDm224lCslK"
      },
      "source": [
        "# Online Retail Store Sales Analysis\n",
        "\n",
        "Business analysis of data from 2017-2019 of an online retail store affected by the COVID-19 pandemic.  The key business goal for this analysis is to help mitigate the negative effects of the COVID-19 pandemic on sales. To achieve that the following questions will be answered in this analysis\n",
        "\n",
        "**Key questions**\n",
        "\n",
        "\n",
        "1.   What is the total annual sales?\n",
        "2.   Annual sales per month \n",
        "3.   What are the best selling products products by Total Net Sales?\n",
        "4.   What are the worst selling products products by Total Net Sales?\n",
        "5.   What are the most shipped products per month?\n",
        "6.   Is there a correlation between the most discounted products and their net sales?\n",
        "7. Total discounts per month?\n",
        "8. What are the total returns on products sold annually and per month?\n",
        "\n",
        "**Deliverables**\n",
        "\n",
        "\n",
        "*   A description of all data sources used\n",
        "*   A clear statement of the business task\n",
        "*   Documentation of any cleaning or manipulation of data\n",
        "*   A summary of the analysis\n",
        "*   Supporting visualizations and key findings\n",
        "\n",
        "\n",
        "\n",
        "\n",
        "\n",
        "\n"
      ]
    },
    {
      "cell_type": "markdown",
      "metadata": {
        "id": "a7f45QlrYT9F"
      },
      "source": [
        "**Installing all necessary packages**"
      ]
    },
    {
      "cell_type": "code",
      "metadata": {
        "id": "rGuGq6RhYgTM"
      },
      "source": [
        "\n",
        "%load_ext rpy2.ipython"
      ],
      "execution_count": 2,
      "outputs": []
    },
    {
      "cell_type": "code",
      "metadata": {
        "id": "0v-soHJwYqL8"
      },
      "source": [
        "%%R\n",
        "install.packages(\"plyr\")\n",
        "install.packages(\"tidyverse\")\n",
        "install.packages(\"here\")\n",
        "install.packages(\"skimr\")\n",
        "install.packages(\"janitor\")\n",
        "install.packages(\"ggplot2\")\n",
        "install.packages(\"plotly\")"
      ],
      "execution_count": null,
      "outputs": []
    },
    {
      "cell_type": "markdown",
      "metadata": {
        "id": "_ssf2Lu9Yyj9"
      },
      "source": [
        "**Installing the libraries**"
      ]
    },
    {
      "cell_type": "code",
      "metadata": {
        "id": "pYO7t29cZzTm"
      },
      "source": [
        "%%R\n",
        "library(tidyverse)\n",
        "library(lubridate)\n",
        "library(plyr)\n",
        "library(dplyr)\n",
        "library(janitor)\n",
        "library(readr)\n",
        "library(tidyr)\n",
        "library(scales)  # Formatting numbers and values\n",
        "library(ggplot2)"
      ],
      "execution_count": 66,
      "outputs": []
    },
    {
      "cell_type": "markdown",
      "metadata": {
        "id": "3pe_4cODZ5Zt"
      },
      "source": [
        "**Collecting Data**"
      ]
    },
    {
      "cell_type": "code",
      "metadata": {
        "id": "MsFt_6k9Z9N1"
      },
      "source": [
        "%%R\n",
        "salesGoods <- read.csv(\"business.retailsales.csv\")\n",
        "salesAnnual <- read.csv(\"business.retailsales2.csv\")"
      ],
      "execution_count": 6,
      "outputs": []
    },
    {
      "cell_type": "markdown",
      "metadata": {
        "id": "d6QT2DAzaf_p"
      },
      "source": [
        "#Exploratory Analysis"
      ]
    },
    {
      "cell_type": "markdown",
      "metadata": {
        "id": "T3w_g9JqawyM"
      },
      "source": [
        "**Check for null values**\n",
        "\n",
        "```\n",
        "# This is formatted as code\n",
        "```\n",
        "\n"
      ]
    },
    {
      "cell_type": "code",
      "metadata": {
        "colab": {
          "base_uri": "https://localhost:8080/"
        },
        "id": "1KWgAJqwa2Ka",
        "outputId": "c9981623-1db5-4cde-aab3-ed4943f12d9b"
      },
      "source": [
        "%%R\n",
        "is.null(salesGoods)   \n",
        "is.null(salesAnnual)"
      ],
      "execution_count": 7,
      "outputs": [
        {
          "output_type": "stream",
          "name": "stdout",
          "text": [
            "[1] FALSE\n"
          ]
        }
      ]
    },
    {
      "cell_type": "markdown",
      "metadata": {
        "id": "NJZ6YxXVPmt5"
      },
      "source": [
        "Goods "
      ]
    },
    {
      "cell_type": "markdown",
      "metadata": {
        "id": "4Qh5YVZzbexk"
      },
      "source": [
        "**Statistical analysis of the datasets**"
      ]
    },
    {
      "cell_type": "code",
      "metadata": {
        "colab": {
          "base_uri": "https://localhost:8080/"
        },
        "id": "sHBsMhQxcPj2",
        "outputId": "ce915a78-19f7-4db6-aa0f-077ea57eaf50"
      },
      "source": [
        "%%R\n",
        "colnames(salesGoods)\n",
        "glimpse(salesGoods)\n",
        "str(salesGoods)\n",
        "head(salesGoods)\n",
        "dim(salesGoods)\n",
        "nrow(salesGoods)\n",
        "summary(salesGoods)\n"
      ],
      "execution_count": 70,
      "outputs": [
        {
          "output_type": "stream",
          "name": "stdout",
          "text": [
            "Rows: 1,775\n",
            "Columns: 6\n",
            "$ Product.Type    <chr> \"Art & Sculpture\", \"Basket\", \"Basket\", \"Basket\", \"Art …\n",
            "$ Net.Quantity    <int> 34, 13, 12, 17, 47, 17, 20, 90, 10, 11, 30, 19, 15, 2,…\n",
            "$ Gross.Sales     <dbl> 14935.0, 3744.0, 3825.0, 3035.0, 2696.8, 2695.0, 2310.…\n",
            "$ Discounts       <dbl> -594.00, -316.80, -201.60, -63.25, -44.16, -52.50, -66…\n",
            "$ Returns         <dbl> -1609, 0, -288, 0, 0, -110, -110, 0, 0, 0, 0, 0, 0, 0,…\n",
            "$ Total.Net.Sales <dbl> 12732.00, 3427.20, 3335.40, 2971.75, 2652.64, 2532.50,…\n",
            "'data.frame':\t1775 obs. of  6 variables:\n",
            " $ Product.Type   : chr  \"Art & Sculpture\" \"Basket\" \"Basket\" \"Basket\" ...\n",
            " $ Net.Quantity   : int  34 13 12 17 47 17 20 90 10 11 ...\n",
            " $ Gross.Sales    : num  14935 3744 3825 3035 2697 ...\n",
            " $ Discounts      : num  -594 -316.8 -201.6 -63.2 -44.2 ...\n",
            " $ Returns        : num  -1609 0 -288 0 0 ...\n",
            " $ Total.Net.Sales: num  12732 3427 3335 2972 2653 ...\n",
            " Product.Type        Net.Quantity     Gross.Sales        Discounts       \n",
            " Length:1775        Min.   :-1.000   Min.   :    0.0   Min.   :-594.000  \n",
            " Class :character   1st Qu.: 1.000   1st Qu.:   48.0   1st Qu.:  -6.000  \n",
            " Mode  :character   Median : 2.000   Median :  100.0   Median :   0.000  \n",
            "                    Mean   : 3.713   Mean   :  199.7   Mean   :  -6.318  \n",
            "                    3rd Qu.: 4.000   3rd Qu.:  185.5   3rd Qu.:   0.000  \n",
            "                    Max.   :96.000   Max.   :14935.0   Max.   :   0.000  \n",
            "    Returns          Total.Net.Sales  \n",
            " Min.   :-1609.000   Min.   : -106.2  \n",
            " 1st Qu.:    0.000   1st Qu.:   44.8  \n",
            " Median :    0.000   Median :   96.0  \n",
            " Mean   :   -5.385   Mean   :  188.0  \n",
            " 3rd Qu.:    0.000   3rd Qu.:  184.8  \n",
            " Max.   :    0.000   Max.   :12732.0  \n"
          ]
        }
      ]
    },
    {
      "cell_type": "markdown",
      "metadata": {
        "id": "L-VYzbpHPRML"
      },
      "source": [
        "Annual Sales\n"
      ]
    },
    {
      "cell_type": "code",
      "metadata": {
        "colab": {
          "base_uri": "https://localhost:8080/"
        },
        "id": "4fM-p0-7PWJ4",
        "outputId": "94c03c6e-32b4-4fad-eb0d-9694013081f3"
      },
      "source": [
        "%%R\n",
        "colnames(salesAnnual)\n",
        "glimpse(salesAnnual)\n",
        "str(salesAnnual)\n",
        "head(salesAnnual)\n",
        "dim(salesAnnual)\n",
        "nrow(salesAnnual)\n",
        "summary(salesAnnual)"
      ],
      "execution_count": 72,
      "outputs": [
        {
          "output_type": "stream",
          "name": "stdout",
          "text": [
            "Rows: 36\n",
            "Columns: 9\n",
            "$ Month        <chr> \"January\", \"February\", \"March\", \"April\", \"May\", \"June\", \"…\n",
            "$ Year         <int> 2017, 2017, 2017, 2017, 2017, 2017, 2017, 2017, 2017, 201…\n",
            "$ Total.Orders <int> 73, 56, 60, 70, 54, 68, 66, 55, 68, 59, 91, 116, 83, 69, …\n",
            "$ Gross.Sales  <dbl> 8861.50, 6908.50, 5778.50, 8814.00, 6677.00, 9621.50, 648…\n",
            "$ Discounts    <dbl> -129.40, -104.70, -172.20, -281.40, -185.75, -234.45, -51…\n",
            "$ Returns      <dbl> -448.45, -416.20, -1017.20, 0.00, -253.80, -17.50, -469.2…\n",
            "$ Net.Sales    <dbl> 8283.65, 6387.60, 4589.10, 8532.60, 6237.45, 9369.55, 595…\n",
            "$ Shipping     <dbl> 1088.30, 892.45, 707.43, 1068.30, 866.46, 1204.32, 807.36…\n",
            "$ Total.Sales  <dbl> 9371.95, 7280.05, 5296.53, 9600.90, 7103.91, 10573.87, 67…\n",
            "'data.frame':\t36 obs. of  9 variables:\n",
            " $ Month       : chr  \"January\" \"February\" \"March\" \"April\" ...\n",
            " $ Year        : int  2017 2017 2017 2017 2017 2017 2017 2017 2017 2017 ...\n",
            " $ Total.Orders: int  73 56 60 70 54 68 66 55 68 59 ...\n",
            " $ Gross.Sales : num  8862 6908 5778 8814 6677 ...\n",
            " $ Discounts   : num  -129 -105 -172 -281 -186 ...\n",
            " $ Returns     : num  -448 -416 -1017 0 -254 ...\n",
            " $ Net.Sales   : num  8284 6388 4589 8533 6237 ...\n",
            " $ Shipping    : num  1088 892 707 1068 866 ...\n",
            " $ Total.Sales : num  9372 7280 5297 9601 7104 ...\n",
            "    Month                Year       Total.Orders     Gross.Sales   \n",
            " Length:36          Min.   :2017   Min.   : 54.00   Min.   : 5720  \n",
            " Class :character   1st Qu.:2017   1st Qu.: 68.00   1st Qu.: 7060  \n",
            " Mode  :character   Median :2018   Median : 82.50   Median : 8850  \n",
            "                    Mean   :2018   Mean   : 97.14   Mean   : 9845  \n",
            "                    3rd Qu.:2019   3rd Qu.: 97.50   3rd Qu.:10151  \n",
            "                    Max.   :2019   Max.   :342.00   Max.   :31184  \n",
            "   Discounts          Returns           Net.Sales        Shipping     \n",
            " Min.   :-2269.5   Min.   :-1572.55   Min.   : 4589   Min.   : 695.4  \n",
            " 1st Qu.: -300.4   1st Qu.: -867.20   1st Qu.: 6428   1st Qu.:1083.3  \n",
            " Median : -236.2   Median : -299.88   Median : 8076   Median :1341.7  \n",
            " Mean   : -311.5   Mean   : -474.96   Mean   : 9058   Mean   :1579.4  \n",
            " 3rd Qu.: -169.5   3rd Qu.:  -73.28   3rd Qu.: 9534   3rd Qu.:1632.1  \n",
            " Max.   :  -51.5   Max.   :    0.00   Max.   :27603   Max.   :5703.2  \n",
            "  Total.Sales   \n",
            " Min.   : 5297  \n",
            " 1st Qu.: 7634  \n",
            " Median : 9404  \n",
            " Mean   :10638  \n",
            " 3rd Qu.:11154  \n",
            " Max.   :33306  \n"
          ]
        }
      ]
    },
    {
      "cell_type": "markdown",
      "metadata": {
        "id": "dkEE5scXcn26"
      },
      "source": [
        "**Creating  summaries**"
      ]
    },
    {
      "cell_type": "markdown",
      "metadata": {
        "id": "P8jRIZyOdPMI"
      },
      "source": [
        "Annaul Sales"
      ]
    },
    {
      "cell_type": "code",
      "metadata": {
        "colab": {
          "base_uri": "https://localhost:8080/"
        },
        "id": "WFuDtKe-dRiP",
        "outputId": "ae5c5630-49d8-4972-9af3-928f5ab3b847"
      },
      "source": [
        "%%R\n",
        "sales_by_Year <- salesAnnual %>% group_by(Year) %>%  \n",
        "summarise(Total.Sales=sum(Total.Sales)) %>% ungroup\n",
        "arrange(sales_by_Year,desc(), group_by = FALSE)\n",
        "as.data.frame(sales_by_Year) #Converting tibble to a dataframe for ease visualization and aggregation\n",
        "head(sales_by_Year)\n",
        "\n",
        "\n",
        "\n",
        "  ## There was a Year on year increment between 2017 to 2019, with Y2 seeing an increment of 0.16 from Y1 and Y3 an increment of 0.21\n"
      ],
      "execution_count": 9,
      "outputs": [
        {
          "output_type": "stream",
          "name": "stdout",
          "text": [
            "  Year Total.Sales\n",
            "1 2017    103497.3\n",
            "2 2018    123568.3\n",
            "3 2019    155900.3\n"
          ]
        }
      ]
    },
    {
      "cell_type": "markdown",
      "metadata": {
        "id": "QFzjRenmgHRq"
      },
      "source": [
        "Total annual sales per month "
      ]
    },
    {
      "cell_type": "code",
      "metadata": {
        "colab": {
          "base_uri": "https://localhost:8080/"
        },
        "id": "X2cswt0VgML5",
        "outputId": "f7cdea0d-062e-4e7d-e188-0d991f804fb0"
      },
      "source": [
        "%%R\n",
        "sales_by_month <- salesAnnual %>% group_by(Month) %>% #Sales per month\n",
        "summarise(Total.Sales=sum(Total.Sales)) %>% ungroup\n",
        "arrange(sales_by_month,desc(), group_by = TRUE)\n",
        "as.data.frame(sales_by_month) # Converting tibble to a dataframe for ease visualization and aggregation\n",
        "print(sales_by_month)\n",
        "\n",
        " ## December saw the highest sales, while the lowest sales were February \n"
      ],
      "execution_count": 10,
      "outputs": [
        {
          "output_type": "stream",
          "name": "stdout",
          "text": [
            "       Month Total.Sales\n",
            "1      April    28146.58\n",
            "2     August    27626.58\n",
            "3   December    59375.46\n",
            "4   February    21756.81\n",
            "5    January    26847.69\n",
            "6       July    26755.57\n",
            "7       June    32444.36\n",
            "8      March    27500.28\n",
            "9        May    25379.69\n",
            "10  November    55477.15\n",
            "11   October    22638.20\n",
            "12 September    29017.51\n"
          ]
        }
      ]
    },
    {
      "cell_type": "markdown",
      "metadata": {
        "id": "LmA1yWoVhSxk"
      },
      "source": [
        "Best selling products"
      ]
    },
    {
      "cell_type": "code",
      "metadata": {
        "colab": {
          "base_uri": "https://localhost:8080/"
        },
        "id": "ePUWplqRhUkc",
        "outputId": "d1185f78-1a70-46df-dd7b-df74cd030342"
      },
      "source": [
        "%%R\n",
        "Top_Product_Type <- salesGoods %>% group_by(Product.Type) %>% #Top Selling items\n",
        "summarise(Total.Net.Sales=sum(Total.Net.Sales)) %>% ungroup\n",
        "head(arrange(Top_Product_Type,desc(Total.Net.Sales)), n = 20)\n",
        "as.data.frame(Top_Product_Type) ##Converting tibble to a dataframe for ease visualization and aggregation\n",
        "Top_Product_Type$Product.Type[1] <- \"Miscellaneous\" # Renaming missing column name\n",
        "\n",
        "top_best <- head(arrange(Top_Product_Type,desc(Total.Net.Sales)), n = 9) #Ranking the top 9 best selling products by Total Net Sales\n",
        "print(top_best)\n",
        "\n",
        "## Baskets were the highest selling products\n"
      ],
      "execution_count": 11,
      "outputs": [
        {
          "output_type": "stream",
          "name": "stdout",
          "text": [
            "     Product.Type Total.Net.Sales\n",
            "1          Basket       134791.39\n",
            "2 Art & Sculpture        84480.85\n",
            "3         Jewelry        29572.95\n",
            "4      Home Decor        25699.99\n",
            "5         Kitchen        15336.82\n",
            "6       Christmas        14460.81\n",
            "7       Soapstone         4629.09\n",
            "8     Accessories         3785.38\n",
            "9            Kids         3721.34\n"
          ]
        }
      ]
    },
    {
      "cell_type": "markdown",
      "metadata": {
        "id": "J5ah__Tao1US"
      },
      "source": [
        " Most shipped products per month"
      ]
    },
    {
      "cell_type": "code",
      "metadata": {
        "colab": {
          "base_uri": "https://localhost:8080/"
        },
        "id": "T9uMSHlFo3wi",
        "outputId": "772c8fe6-8501-4a6b-a573-7c0fb3b0b68e"
      },
      "source": [
        "%%R\n",
        "Shipping_per_month <- salesAnnual %>% group_by(Month) %>%\n",
        "summarise(Shipping=sum(Shipping)) %>% ungroup\n",
        "head(arrange(Shipping_per_month,(Shipping)), n = 19)\n",
        "as.data.frame(Shipping_per_month) # Converting tibble to a dataframe for ease visualization and aggregation\n",
        "print(Shipping_per_month)\n",
        "\n",
        " ## December and November have the 1st and 2nd highest number of shippments. That correlates with the figures of the best selling products. \n"
      ],
      "execution_count": 12,
      "outputs": [
        {
          "output_type": "stream",
          "name": "stdout",
          "text": [
            "       Month Shipping\n",
            "1   February  2923.21\n",
            "2    January  3582.26\n",
            "3    October  3589.12\n",
            "4      April  3798.31\n",
            "5        May  3869.61\n",
            "6     August  3972.24\n",
            "7      March  4049.45\n",
            "8       July  4065.79\n",
            "9  September  4109.30\n",
            "10      June  4685.61\n",
            "11  November  8616.90\n",
            "12  December  9596.30\n"
          ]
        }
      ]
    },
    {
      "cell_type": "markdown",
      "metadata": {
        "id": "HSgp44WBkPmr"
      },
      "source": [
        "Worst selling products"
      ]
    },
    {
      "cell_type": "code",
      "metadata": {
        "colab": {
          "base_uri": "https://localhost:8080/"
        },
        "id": "oeKTLy3_kSpm",
        "outputId": "9c18f943-6293-447b-b4ea-729bfec14329"
      },
      "source": [
        "%%R \n",
        "top_worst <- top_n(Top_Product_Type, -9)\n",
        "head(arrange(top_worst,(Total.Net.Sales)), n = 9)\n",
        "as.data.frame(top_worst) ##Converting tibble to a dataframe for ease visualization and aggregation\n",
        "print(top_worst)\n",
        "\n",
        " ## Gift baskets are the worst selling products \n"
      ],
      "execution_count": 74,
      "outputs": [
        {
          "output_type": "stream",
          "name": "stdout",
          "text": [
            "Selecting by Total.Net.Sales\n",
            "      Product.Type Total.Net.Sales\n",
            "1     Gift Baskets           19.50\n",
            "2           Easter           34.20\n",
            "3    Miscellaneous          560.50\n",
            "4         Textiles         1679.10\n",
            "5        Furniture         1864.96\n",
            "6    One-of-a-Kind         2108.01\n",
            "7 Fair Trade Gifts         2204.67\n",
            "8            Music         2418.90\n",
            "9        Skin Care         2571.80\n"
          ]
        }
      ]
    },
    {
      "cell_type": "markdown",
      "metadata": {
        "id": "8If-2_hCkoZl"
      },
      "source": [
        "Checking to see if there is a correlation between the most discounted products and their net sales"
      ]
    },
    {
      "cell_type": "code",
      "metadata": {
        "colab": {
          "base_uri": "https://localhost:8080/"
        },
        "id": "QOmmI7QJkp28",
        "outputId": "15095fe5-b834-4ca3-a43f-fbd8a3f1aa23"
      },
      "source": [
        "%%R\n",
        "Discounts <- salesGoods %>% group_by(Product.Type) %>%\n",
        "summarise(Discounts=sum(Discounts)) %>% ungroup\n",
        "head(arrange(Discounts,(Discounts)), n = 19)\n",
        "as.data.frame(Discounts) #Converting tibble to a dataframe for ease visualization and aggregation\n",
        "Discounts$Product.Type[18] <- \"Miscellaneous\" # Renaming a missing column name\n",
        "print(Discounts)\n",
        "\n",
        " ## There is correlation between the best selling items and the top discounted items. Basket the product with the higest net sales is also the most discounted product\n"
      ],
      "execution_count": 15,
      "outputs": [
        {
          "output_type": "stream",
          "name": "stdout",
          "text": [
            "       Product.Type Discounts\n",
            "1            Basket  -4584.42\n",
            "2   Art & Sculpture  -2955.82\n",
            "3        Home Decor   -991.21\n",
            "4           Jewelry   -965.85\n",
            "5           Kitchen   -431.11\n",
            "6         Christmas   -345.19\n",
            "7         Furniture   -169.04\n",
            "8              Kids   -116.66\n",
            "9          Textiles   -112.90\n",
            "10      Accessories   -107.02\n",
            "11        Soapstone    -96.91\n",
            "12     Recycled Art    -88.64\n",
            "13            Music    -82.19\n",
            "14    One-of-a-Kind    -71.99\n",
            "15 Fair Trade Gifts    -53.33\n",
            "16        Skin Care    -37.70\n",
            "17           Easter     -3.80\n",
            "18    Miscellaneous      0.00\n",
            "19     Gift Baskets      0.00\n"
          ]
        }
      ]
    },
    {
      "cell_type": "markdown",
      "metadata": {
        "id": "TcBiZ1eAnRe_"
      },
      "source": [
        "Discounts per month "
      ]
    },
    {
      "cell_type": "code",
      "metadata": {
        "colab": {
          "base_uri": "https://localhost:8080/"
        },
        "id": "7i4Of3BqnUlo",
        "outputId": "672747bf-83bf-45c3-818b-a582b88b9eb3"
      },
      "source": [
        "%%R\n",
        "Discounts_per_month <- salesAnnual %>% group_by(Month) %>%\n",
        "summarise(Discounts=sum(Discounts)) %>% ungroup\n",
        "head(arrange(Discounts_per_month,(Discounts)), n = 12)\n",
        "as.data.frame(Discounts_per_month) #Converting tibble to a dataframe for ease visualization and aggregation\n",
        "print(Discounts_per_month)\n",
        "\n",
        "\n",
        " ## December had the highest discount at -2790.56, while February had the least discounts at -554.75"
      ],
      "execution_count": 75,
      "outputs": [
        {
          "output_type": "stream",
          "name": "stdout",
          "text": [
            "       Month Discounts\n",
            "1   December  -2790.56\n",
            "2   November  -1322.59\n",
            "3        May   -867.90\n",
            "4      March   -838.87\n",
            "5      April   -799.08\n",
            "6       June   -755.87\n",
            "7       July   -736.44\n",
            "8  September   -692.74\n",
            "9    October   -645.37\n",
            "10   January   -608.47\n",
            "11    August   -601.14\n",
            "12  February   -554.75\n"
          ]
        }
      ]
    },
    {
      "cell_type": "markdown",
      "metadata": {
        "id": "0hGbrgLdoabo"
      },
      "source": [
        "Checking the returns on products sold"
      ]
    },
    {
      "cell_type": "code",
      "metadata": {
        "colab": {
          "base_uri": "https://localhost:8080/"
        },
        "id": "WRa81TTXocau",
        "outputId": "ef76351e-52e1-49ec-ae11-4e53cda494f6"
      },
      "source": [
        "%%R\n",
        "Returns <- salesGoods %>% group_by(Product.Type) %>%\n",
        "summarise(Returns=sum(Returns)) %>% ungroup\n",
        "head(arrange(Returns,(Returns)), n = 19)\n",
        "as.data.frame(Returns) # Converting tibble to a dataframe for ease visualization and aggregation\n",
        "Returns$Product.Type[10] <- \"Miscellaneous\" # Renaming a missing column name\n",
        "print(Returns)\n"
      ],
      "execution_count": 48,
      "outputs": [
        {
          "output_type": "stream",
          "name": "stdout",
          "text": [
            "       Product.Type  Returns\n",
            "1            Basket -4439.69\n",
            "2   Art & Sculpture -2879.93\n",
            "3         Christmas  -670.00\n",
            "4           Jewelry  -509.20\n",
            "5        Home Decor  -423.35\n",
            "6           Kitchen  -328.07\n",
            "7             Music  -142.41\n",
            "8          Textiles   -97.00\n",
            "9         Soapstone   -69.50\n",
            "10    Miscellaneous     0.00\n",
            "11      Accessories     0.00\n",
            "12           Easter     0.00\n",
            "13 Fair Trade Gifts     0.00\n",
            "14        Furniture     0.00\n",
            "15     Gift Baskets     0.00\n",
            "16             Kids     0.00\n",
            "17    One-of-a-Kind     0.00\n",
            "18     Recycled Art     0.00\n",
            "19        Skin Care     0.00\n"
          ]
        }
      ]
    },
    {
      "cell_type": "markdown",
      "metadata": {
        "id": "FGHpj7z22jnI"
      },
      "source": [
        "Returns per month "
      ]
    },
    {
      "cell_type": "code",
      "metadata": {
        "colab": {
          "base_uri": "https://localhost:8080/"
        },
        "id": "ynW0_kAz2nUE",
        "outputId": "374c9f50-0116-46e7-b22f-968c0ae30706"
      },
      "source": [
        "%%R\n",
        "Returns_per_month <- salesAnnual %>% group_by(Month) %>%\n",
        "summarise(Returns=sum(Returns)) %>% ungroup\n",
        "head(arrange(Returns_per_month,(Returns)), n = 12)\n",
        "as.data.frame(Returns_per_month) # Converting tibble to a dataframe for ease visualization and aggregation\n",
        "Returns_per_month\n",
        "  \n",
        " ## December had the highest returns (negative returns), while April had the lowest."
      ],
      "execution_count": 52,
      "outputs": [
        {
          "output_type": "stream",
          "name": "stdout",
          "text": [
            "       Month  Returns\n",
            "1   December -2653.73\n",
            "2    October -2172.30\n",
            "3       July -2067.93\n",
            "4      March -2007.00\n",
            "5        May -1875.17\n",
            "6    January -1725.05\n",
            "7       June -1689.43\n",
            "8  September -1134.35\n",
            "9   November  -842.76\n",
            "10  February  -573.05\n",
            "11    August  -307.72\n",
            "12     April   -50.00\n"
          ]
        }
      ]
    },
    {
      "cell_type": "markdown",
      "metadata": {
        "id": "6L4qoLM9qCVA"
      },
      "source": [
        "# Visualizations "
      ]
    },
    {
      "cell_type": "markdown",
      "metadata": {
        "id": "CUSOyel4qJK6"
      },
      "source": [
        "**Visualizing summary data**"
      ]
    },
    {
      "cell_type": "markdown",
      "metadata": {
        "id": "kwVA13BnqOR-"
      },
      "source": [
        "Sales per Year"
      ]
    },
    {
      "cell_type": "code",
      "metadata": {
        "colab": {
          "base_uri": "https://localhost:8080/",
          "height": 497
        },
        "id": "Pr8nbvjdqRnc",
        "outputId": "bcad9ef8-9a6c-4f38-f136-1cf4fee95c0f"
      },
      "source": [
        "%%R \n",
        "ggplot(sales_by_Year,\n",
        "       aes(x = Year, \n",
        "           y = Total.Sales))+\n",
        "  geom_bar(stat=\"identity\",\n",
        "           fill = \"cornflowerblue\",\n",
        "           color = \"green\") +\n",
        "  geom_text(aes(label=Total.Sales), vjust=1.6, color=\"black\", size=4.0)+\n",
        "  labs(x = \"Year\",y = \"Sales\", title  = \"Sales per year\", subtitle = \"2017-2019\")\n"
      ],
      "execution_count": 77,
      "outputs": [
        {
          "output_type": "display_data",
          "data": {
            "image/png": "[encoded data removed]"
          },
          "metadata": {}
        }
      ]
    },
    {
      "cell_type": "markdown",
      "metadata": {
        "id": "hxPZ7QIdqffh"
      },
      "source": [
        "Sales per Month"
      ]
    },
    {
      "cell_type": "code",
      "metadata": {
        "id": "i9iQx1Xxqg7G",
        "colab": {
          "base_uri": "https://localhost:8080/",
          "height": 497
        },
        "outputId": "ef69dc06-e084-4789-9fb3-5cdec3d9506f"
      },
      "source": [
        "%%R\n",
        "  sales_by_month%>% \n",
        "  ggplot()+\n",
        "  geom_line(aes(x = Month, y = Total.Sales, group = 1))+\n",
        "  scale_x_discrete(limits = month.name) + # sorting the month column into a monthly order. \n",
        "  scale_y_continuous(labels = function(x) {\n",
        "    scales::comma(x, big.mark = \".\", decimal.mark = \",\")\n",
        "  })+\n",
        "  labs(x = \"Month\",y = \"Sales\", title  = \"Sales per month\")\n",
        "\n",
        "\n",
        "\n"
      ],
      "execution_count": 78,
      "outputs": [
        {
          "output_type": "display_data",
          "data": {
            "image/png": "[encoded data removed]"
          },
          "metadata": {}
        }
      ]
    },
    {
      "cell_type": "markdown",
      "metadata": {
        "id": "SdsP3lztqsB9"
      },
      "source": [
        "Best selling products"
      ]
    },
    {
      "cell_type": "code",
      "metadata": {
        "colab": {
          "base_uri": "https://localhost:8080/",
          "height": 497
        },
        "id": "vhIXAg4xrECj",
        "outputId": "6d938a42-755d-4669-cd30-88800b7cefa7"
      },
      "source": [
        "%%R \n",
        "ggplot(top_best,\n",
        "       aes(x =  Product.Type , \n",
        "           y = Total.Net.Sales)) +\n",
        "  geom_bar(stat=\"identity\",\n",
        "           fill = \"cornflowerblue\",\n",
        "           color = \"green\") +\n",
        "  scale_y_continuous(labels = scales::comma)+\n",
        "  coord_flip()+\n",
        "  labs(x = \"Product Type\",y = \"Total Sales\", title  = \"Best selling products\")\n"
      ],
      "execution_count": 79,
      "outputs": [
        {
          "output_type": "display_data",
          "data": {
            "image/png": "[encoded data removed]"
          },
          "metadata": {}
        }
      ]
    },
    {
      "cell_type": "markdown",
      "metadata": {
        "id": "Pwpw8dniyQ_c"
      },
      "source": [
        "Shipping per month"
      ]
    },
    {
      "cell_type": "code",
      "metadata": {
        "colab": {
          "base_uri": "https://localhost:8080/",
          "height": 497
        },
        "id": "AMkAQQFgyVZL",
        "outputId": "78f0843d-1657-4a3a-89b7-014be2cf8693"
      },
      "source": [
        "%%R\n",
        "ggplot(Shipping_per_month,\n",
        "       aes(x =  Month, \n",
        "           y = Shipping)) +\n",
        "  geom_bar(stat=\"identity\",\n",
        "           fill = \"cornflowerblue\",\n",
        "           color = \"green\") +\n",
        "  scale_x_discrete(limits = month.name)+\n",
        "  labs(x = \"Month\",y = \"Shipping\", title  = \"Rate of shipping per month\")"
      ],
      "execution_count": 46,
      "outputs": [
        {
          "output_type": "display_data",
          "data": {
            "image/png": "[encoded data removed]"
          },
          "metadata": {}
        }
      ]
    },
    {
      "cell_type": "markdown",
      "metadata": {
        "id": "09oeUG0jrUuJ"
      },
      "source": [
        "Worst selling products"
      ]
    },
    {
      "cell_type": "code",
      "metadata": {
        "colab": {
          "base_uri": "https://localhost:8080/",
          "height": 497
        },
        "id": "PaukDXS3rWEm",
        "outputId": "2edb4dde-5f84-46b5-d111-3657be6170c3"
      },
      "source": [
        "%%R\n",
        "ggplot(top_worst,\n",
        "       aes(x =  Product.Type , \n",
        "           y = Total.Net.Sales)) +\n",
        "  geom_bar(stat=\"identity\",\n",
        "           fill = \"red\",\n",
        "           color = \"black\") +\n",
        "  coord_flip()+\n",
        "  scale_y_continuous(labels = scales::comma)+\n",
        "  labs(x = \"Product Type\",y = \"Total Sales\", title  = \"Worst selling products\")"
      ],
      "execution_count": 80,
      "outputs": [
        {
          "output_type": "display_data",
          "data": {
            "image/png": "[encoded data removed]"
          },
          "metadata": {}
        }
      ]
    },
    {
      "cell_type": "markdown",
      "metadata": {
        "id": "wWXN1fAtsbAt"
      },
      "source": [
        "Discounts "
      ]
    },
    {
      "cell_type": "code",
      "metadata": {
        "colab": {
          "base_uri": "https://localhost:8080/",
          "height": 497
        },
        "id": "YCSDIEDmsc_E",
        "outputId": "2a2ebe8e-fa79-49ed-a2bb-3bfff8361515"
      },
      "source": [
        "%%R\n",
        "ggplot(Discounts,\n",
        "       aes(x =  Product.Type , \n",
        "           y = Discounts)) +\n",
        "  geom_bar(stat=\"identity\",\n",
        "           fill = \"red\",\n",
        "           color = \"black\") +\n",
        "  scale_y_continuous(labels = scales::comma)+\n",
        "  coord_flip()+\n",
        "  labs(x = \"Product Type\",y = \"Discount per product\", title  = \"Discount\")"
      ],
      "execution_count": 81,
      "outputs": [
        {
          "output_type": "display_data",
          "data": {
            "image/png": "[encoded data removed]"
          },
          "metadata": {}
        }
      ]
    },
    {
      "cell_type": "markdown",
      "metadata": {
        "id": "YdyAQHeAsjwx"
      },
      "source": [
        "Discounts per month"
      ]
    },
    {
      "cell_type": "code",
      "metadata": {
        "colab": {
          "base_uri": "https://localhost:8080/",
          "height": 497
        },
        "id": "v2iIvfy5smh5",
        "outputId": "0d3eb724-8658-4019-b277-6032bfc65ada"
      },
      "source": [
        "%%R\n",
        "ggplot(Discounts_per_month,\n",
        "       aes(x =  Month, \n",
        "           y = Discounts)) +\n",
        "  geom_bar(stat=\"identity\",\n",
        "           fill = \"red\",\n",
        "           color = \"black\") +\n",
        "  scale_x_discrete(limits = month.name)+\n",
        "  scale_y_continuous(labels = scales::comma)+\n",
        "  labs(x = \"Month\",y = \"Discount\", title  = \"Discount per month\")"
      ],
      "execution_count": 82,
      "outputs": [
        {
          "output_type": "display_data",
          "data": {
            "image/png": "[encoded data removed]"
          },
          "metadata": {}
        }
      ]
    },
    {
      "cell_type": "markdown",
      "metadata": {
        "id": "RPJCZyXysrIZ"
      },
      "source": [
        "Discounts per month"
      ]
    },
    {
      "cell_type": "code",
      "metadata": {
        "colab": {
          "base_uri": "https://localhost:8080/",
          "height": 497
        },
        "id": "B6GBy7j_stfo",
        "outputId": "528b3bcd-838d-4564-f033-08c46504d2c6"
      },
      "source": [
        "%%R\n",
        "ggplot(Discounts_per_month,\n",
        "       aes(x =  Month, \n",
        "           y = Discounts)) +\n",
        "  geom_bar(stat=\"identity\",\n",
        "           fill = \"red\",\n",
        "           color = \"black\") +\n",
        "  scale_x_discrete(limits = month.name)+\n",
        "  scale_y_continuous(labels = scales::comma)+\n",
        "  labs(x = \"Product Type\",y = \"Discount per item\", title  = \"Discount\")"
      ],
      "execution_count": 59,
      "outputs": [
        {
          "output_type": "display_data",
          "data": {
            "image/png": "[encoded data removed]"
          },
          "metadata": {}
        }
      ]
    },
    {
      "cell_type": "markdown",
      "metadata": {
        "id": "PYJEPmyFurWU"
      },
      "source": [
        "Returns per product "
      ]
    },
    {
      "cell_type": "code",
      "metadata": {
        "colab": {
          "base_uri": "https://localhost:8080/",
          "height": 497
        },
        "id": "zP18Yootu2K2",
        "outputId": "197c9abd-2fb1-48c0-f8ed-1eb010d239f9"
      },
      "source": [
        "%%R \n",
        "ggplot(Returns,\n",
        "       aes(x = Product.Type, \n",
        "           y = Returns)) +\n",
        "  geom_bar(stat=\"identity\",\n",
        "           fill = \"red\",\n",
        "           color = \"black\")+\n",
        "  scale_y_continuous(labels = scales::comma)+\n",
        "  coord_flip()+\n",
        "  labs(x = \"Product Type\",y = \"Returns\", title = \"Returns per item\")\n"
      ],
      "execution_count": 83,
      "outputs": [
        {
          "output_type": "display_data",
          "data": {
            "image/png": "[encoded data removed]"
          },
          "metadata": {}
        }
      ]
    },
    {
      "cell_type": "markdown",
      "metadata": {
        "id": "UvB40D_dvAqq"
      },
      "source": [
        "Returns per month "
      ]
    },
    {
      "cell_type": "code",
      "metadata": {
        "colab": {
          "base_uri": "https://localhost:8080/",
          "height": 497
        },
        "id": "BOxu52gi3P9H",
        "outputId": "1c7561a5-1ce3-45fc-9c70-de0abf520446"
      },
      "source": [
        "%%R\n",
        "ggplot(Returns_per_month,\n",
        "       aes(x =  Month, \n",
        "           y = Returns)) +\n",
        "  geom_bar(stat=\"identity\",\n",
        "           fill = \"red\",\n",
        "           color = \"black\") +\n",
        "  scale_x_discrete(limits = month.name)+\n",
        "  scale_y_continuous(labels = scales::comma)+\n",
        "  labs(x = \"Month\",y = \"Returns per month\", title  = \"Returns per month\")"
      ],
      "execution_count": 84,
      "outputs": [
        {
          "output_type": "display_data",
          "data": {
            "image/png": "[encoded data removed]"
          },
          "metadata": {}
        }
      ]
    },
    {
      "cell_type": "markdown",
      "metadata": {
        "id": "Ald2mWqewDWs"
      },
      "source": [
        "# Key Takeways\n",
        "\n",
        "*   There was a Year on year increment between 2017 to 2019, with Y2 seeing an increment of 0.16 from Y1 and Y3 an increment of 0.21\n",
        "\n",
        "*  December saw the highest sales, while the lowest sales were in February \n",
        "*  Baskets were the highest selling products\n",
        "*  December and November have the 1st and 2nd highest number of shippments. That correlates with the figures of the best selling products.  \n",
        "*  Gift baskets are the worst selling product \n",
        "*  There is correlation between the best selling products and the top discounted items. Basket the product with the higest net sales is also the most discounted product \n",
        "* December had the highest discount at -2790.56, while February had the least discounts at -554.75\n",
        "* December had the highest returns (negative returns), while April had the lowest.\n",
        "* The business must be having cashflow issue as most of the sales happen in November and December. \n",
        "\n"
      ]
    },
    {
      "cell_type": "markdown",
      "metadata": {
        "id": "9pbEBvenxitP"
      },
      "source": [
        "# Recommendations\n",
        "\n",
        "1.  Develop a loyalty program that offers monthly discounts to even out the discounts through the year. As there is a correlation between the between discount and an increase in sales.\n",
        "2. Use the the customer data generated from the loyalty program and the store's website's analytics for segmentation analysis.\n",
        "3. Use the data generated from the customer loyalty program to fine tune future analysis and create a support vector machine learning model to predict buyers most likely to make return purchases.\n",
        "4. Include a product rating system on the store's website, and use the results from the segmentation analysis to guide a coupon recommendation system based on individual customer profiles and customer segments. \n",
        "\n",
        "\n",
        "\n",
        "\n"
      ]
    }
  ]
}
